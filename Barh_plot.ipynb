{
  "nbformat": 4,
  "nbformat_minor": 0,
  "metadata": {
    "colab": {
      "name": "Untitled8.ipynb",
      "provenance": []
    },
    "kernelspec": {
      "name": "python3",
      "display_name": "Python 3"
    },
    "language_info": {
      "name": "python"
    }
  },
  "cells": [
    {
      "cell_type": "code",
      "execution_count": null,
      "metadata": {
        "id": "sE6LC1f69OS1"
      },
      "outputs": [],
      "source": [
        "from collections import Counter\n",
        "import pandas as pd\n",
        "from matplotlib import pyplot as plt\n",
        "import numpy as np\n",
        "\n",
        "plt.style.use('fivethirtyeight')\n",
        "\n",
        "data=pd.read_csv('/content/barh_languages.csv')\n",
        "#ids=data['Responder_id']\n",
        "lang_responses=data['LanguagesWorkedWith']\n",
        "\n",
        "language_counter= Counter()\n",
        "\n",
        "for response in lang_responses:\n",
        "    language_counter.update(response.split(';'))\n",
        "    \n",
        "languages=[]\n",
        "popularity=[]\n",
        "\n",
        "for item in language_counter.most_common(15):\n",
        "        languages.append(item[0])\n",
        "        popularity.append(item[1])\n",
        "\n",
        "languages.reverse()\n",
        "popularity.reverse()\n",
        "\n",
        "for index, value in enumerate(popularity):\n",
        "\n",
        "    plt.text(value, index, str(value))\n",
        "\n",
        "print(languages,popularity)\n",
        "\n",
        "plt.barh(languages,popularity)\n",
        "\n",
        "#plt.legend()\n",
        "#plt.xticks(ticks=x_indexes, labels=ages_x)\n",
        "plt.grid(True)\n",
        "plt.xlabel(\"Number of people who use\")\n",
        "plt.ylabel(\"programming Language\")\n",
        "plt.title(\"Popular Languages\")\n",
        "plt.tight_layout()\n",
        "plt.show()"
      ]
    }
  ]
}